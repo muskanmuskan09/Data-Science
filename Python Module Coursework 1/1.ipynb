{
 "cells": [
  {
   "cell_type": "markdown",
   "id": "e05850a0-45bc-456e-a263-154e4b4ca173",
   "metadata": {},
   "source": [
    "# Task1"
   ]
  },
  {
   "cell_type": "markdown",
   "id": "7e9cf606-dea1-40c8-bf8b-379b6ec2e9d6",
   "metadata": {},
   "source": [
    "# Program to multiply all items in a list "
   ]
  },
  {
   "cell_type": "code",
   "execution_count": 1,
   "id": "6010cd76-c9c0-4fa6-9a4e-1d06d9f4d7e8",
   "metadata": {},
   "outputs": [
    {
     "name": "stdout",
     "output_type": "stream",
     "text": [
      "Enter numbers separated by comma:  4,7,3\n"
     ]
    },
    {
     "name": "stdout",
     "output_type": "stream",
     "text": [
      "The product is :  84\n"
     ]
    }
   ],
   "source": [
    "a=input(\"Enter numbers separated by commas: \")\n",
    "a=a.split(',')\n",
    "b=list(map(int,a))\n",
    "p=1\n",
    "for i in b:\n",
    "    p=p*i\n",
    "print(\"The product is : \",p)    "
   ]
  },
  {
   "cell_type": "markdown",
   "id": "e9e92c07-133a-4cb9-90b3-4d54cd909d76",
   "metadata": {},
   "source": [
    "# Program to find largest number from a list"
   ]
  },
  {
   "cell_type": "code",
   "execution_count": 2,
   "id": "cefe5c68-a21b-4924-a399-10bdd8430142",
   "metadata": {},
   "outputs": [
    {
     "name": "stdout",
     "output_type": "stream",
     "text": [
      "Enter numbers separated by comma:  6,80,9\n"
     ]
    },
    {
     "name": "stdout",
     "output_type": "stream",
     "text": [
      "80\n"
     ]
    }
   ],
   "source": [
    "a=input(\"Enter numbers separated by commas: \")\n",
    "a=a.split(',')\n",
    "b=list(map(int,a))\n",
    "large=b[0]\n",
    "for i in b:\n",
    "    if i>large:\n",
    "        large=i\n",
    "print(large)        "
   ]
  },
  {
   "cell_type": "markdown",
   "id": "2bc92852-9f26-46c7-8ab0-5aac204ec269",
   "metadata": {},
   "source": [
    "# Program to find smallest element from list"
   ]
  },
  {
   "cell_type": "code",
   "execution_count": 10,
   "id": "0fc05007-c8e5-4091-8d23-682c75d9eef2",
   "metadata": {},
   "outputs": [
    {
     "name": "stdout",
     "output_type": "stream",
     "text": [
      "Enter numbers separated by comma:  45,7,3,45\n"
     ]
    },
    {
     "name": "stdout",
     "output_type": "stream",
     "text": [
      "3\n"
     ]
    }
   ],
   "source": [
    "a=input(\"Enter numbers separated by commas: \")\n",
    "a=a.split(',')\n",
    "b=list(map(int,a))\n",
    "small=b[0]\n",
    "for i in b:\n",
    "    if i<small:\n",
    "        small=i\n",
    "print(small)      "
   ]
  },
  {
   "cell_type": "markdown",
   "id": "3669bc1c-0dbf-4db5-a387-7e7d323194b8",
   "metadata": {},
   "source": [
    "# Write a Python program to get a list, sorted in increasing order by the last element in each tuple from a given list of non-empty tuples."
   ]
  },
  {
   "cell_type": "code",
   "execution_count": 25,
   "id": "bd19c66a-9b8b-440f-ba1d-56f2dc170ecf",
   "metadata": {},
   "outputs": [
    {
     "name": "stdout",
     "output_type": "stream",
     "text": [
      "After sorting :  [(5, 0), (4, 8, 1), (4, 1, 2), (7, 8)]\n"
     ]
    }
   ],
   "source": [
    "a=[(5,0),(4,1,2),(4,8,1),(7,8)]\n",
    "s=sorted(a, key=lambda x:x[-1])\n",
    "print(\"After sorting  items are: \",s)"
   ]
  },
  {
   "cell_type": "markdown",
   "id": "5c93c916-8ad1-4e31-96c5-5b21edf04c00",
   "metadata": {},
   "source": [
    "# Write a Python program to remove duplicates from a list."
   ]
  },
  {
   "cell_type": "code",
   "execution_count": 2,
   "id": "d2d50c9b-9400-4673-8230-18c5adf4d5c8",
   "metadata": {},
   "outputs": [
    {
     "name": "stdout",
     "output_type": "stream",
     "text": [
      "Enter numbers separated by comma:  3,4,6,4,8,5,6,7\n"
     ]
    },
    {
     "name": "stdout",
     "output_type": "stream",
     "text": [
      "[3, 4, 6, 8, 5, 7]\n"
     ]
    }
   ],
   "source": [
    "a=input(\"Enter numbers separated by commas: \")\n",
    "a=a.split(',')\n",
    "b=list(map(int,a))\n",
    "new=[]\n",
    "for i in b:\n",
    "    if i not in new:\n",
    "        new.append(i)\n",
    "print(new)"
   ]
  },
  {
   "cell_type": "markdown",
   "id": "8daf4ce7-125f-4fa2-bb54-996b6a423ed2",
   "metadata": {},
   "source": [
    "# Write a Python program to check if a list is empty or not."
   ]
  },
  {
   "cell_type": "code",
   "execution_count": 43,
   "id": "3095aeb2-6434-4c18-b598-ef04e2f81321",
   "metadata": {},
   "outputs": [
    {
     "name": "stdout",
     "output_type": "stream",
     "text": [
      "b1 is not empty\n",
      "b2 is empty\n"
     ]
    }
   ],
   "source": [
    "b1=[1,2,3,\"hii\"]\n",
    "b2=[]\n",
    "length1=len(b1)\n",
    "length2=len(b2)\n",
    "if length1==0:\n",
    "    print(\"b1 is empty\")\n",
    "else:\n",
    "    print(\"b1 is not empty\")\n",
    "\n",
    "if length2==0:\n",
    "    print(\"b2 is empty\")\n",
    "else:\n",
    "    print(\"b2 is not empty\")"
   ]
  },
  {
   "cell_type": "markdown",
   "id": "e83592fc-13ef-4038-a1bd-90a3d018a9ed",
   "metadata": {},
   "source": [
    "# Write a Python program to count the lowercase letters in a given list of word"
   ]
  },
  {
   "cell_type": "code",
   "execution_count": 4,
   "id": "a57c5b84-087a-44a8-bab6-72459b43aef9",
   "metadata": {},
   "outputs": [
    {
     "name": "stdout",
     "output_type": "stream",
     "text": [
      "Enter words separated by comma:  iSha,DiYA\n"
     ]
    },
    {
     "name": "stdout",
     "output_type": "stream",
     "text": [
      "Number of lowercase letters are :  4\n"
     ]
    }
   ],
   "source": [
    "b=input(\"Enter words separated by comma: \")\n",
    "a=b.split(',')\n",
    "count=0\n",
    "for word in a:\n",
    "    for i in word:\n",
    "        if i.islower():\n",
    "            count+=1\n",
    "\n",
    "print(\"Number of lowercase letters are : \",count)"
   ]
  },
  {
   "cell_type": "markdown",
   "id": "9afc1151-b3c0-404b-a8f5-c8fd3cdc3fb1",
   "metadata": {},
   "source": [
    "# Write a Python program to extract specified number of elements from a given list"
   ]
  },
  {
   "cell_type": "code",
   "execution_count": 97,
   "id": "2844bc98-0be2-4efd-b57a-15a2fea62750",
   "metadata": {},
   "outputs": [
    {
     "name": "stdout",
     "output_type": "stream",
     "text": [
      "['1', '4']\n",
      "['4']\n"
     ]
    }
   ],
   "source": [
    "def u(a,num):\n",
    "    s=\"\"\n",
    "    for i in a:\n",
    "        s+=str(i)\n",
    "    n=set() \n",
    "    for j in s:\n",
    "        if s.count(j)==num:\n",
    "          n.add(j)\n",
    "    nl=list(n)\n",
    "    print(nl)\n",
    "\n",
    "a1=[1, 1, 3, 4, 4, 5, 6, 7]\n",
    "a2=[0, 1, 2, 3, 4, 4, 4, 4, 5, 7]\n",
    "u(a1,2)\n",
    "u(a2,4)\n",
    "    "
   ]
  },
  {
   "cell_type": "markdown",
   "id": "919981ae-b4ff-4b33-8eec-5d6870c428e0",
   "metadata": {},
   "source": [
    "#  Write a Python program to find the largest odd number in a given list of integers."
   ]
  },
  {
   "cell_type": "code",
   "execution_count": 3,
   "id": "149383c7-7ecf-43a8-b430-37a857c2540a",
   "metadata": {},
   "outputs": [
    {
     "name": "stdout",
     "output_type": "stream",
     "text": [
      "Enter numbers separated by comma:  6,9,3,0,5\n"
     ]
    },
    {
     "name": "stdout",
     "output_type": "stream",
     "text": [
      "9\n"
     ]
    }
   ],
   "source": [
    "a=input(\"Enter numbers separated by comma: \")\n",
    "a=a.split(',')\n",
    "b=list(map(int,a))\n",
    "large=b[0]\n",
    "for i in b:\n",
    "    if i>large and i%2!=0:\n",
    "        large=i\n",
    "        \n",
    "print(large)    "
   ]
  },
  {
   "cell_type": "markdown",
   "id": "26e5764c-9e55-4620-8f18-5a1714e41248",
   "metadata": {},
   "source": [
    "# Write a Python program to print a specified list after removing the 0th, 4th and 5th elements."
   ]
  },
  {
   "cell_type": "code",
   "execution_count": 2,
   "id": "d7c0cfdf-e09d-42d6-9e9e-c23500c4f0ac",
   "metadata": {},
   "outputs": [
    {
     "name": "stdout",
     "output_type": "stream",
     "text": [
      "Enter numbers separated by comma:  A,B,C,D,E,F\n"
     ]
    },
    {
     "name": "stdout",
     "output_type": "stream",
     "text": [
      "['B', 'C', 'D']\n"
     ]
    }
   ],
   "source": [
    "a=input(\"Enter numbers separated by comma: \")\n",
    "a=a.split(',')\n",
    "n=[]\n",
    "for i in range(0,len(a)):\n",
    "    if i!=0 and i!=4 and i!=5:\n",
    "        n.append(a[i])\n",
    "\n",
    "print(n)\n",
    "        "
   ]
  },
  {
   "cell_type": "markdown",
   "id": "6ddfe7bb-85ca-4282-aaa5-5193d633a17d",
   "metadata": {},
   "source": [
    "# Task 2"
   ]
  },
  {
   "cell_type": "markdown",
   "id": "0b4fe038-cc92-4506-9817-e97c9e359303",
   "metadata": {},
   "source": [
    "#  Write a Python program to create a tuple with different data types."
   ]
  },
  {
   "cell_type": "code",
   "execution_count": 71,
   "id": "d9683946-099f-4073-8ae3-71e23bf8cac1",
   "metadata": {},
   "outputs": [
    {
     "name": "stdout",
     "output_type": "stream",
     "text": [
      "The tuple is: (25, 'ABC', 13.14, True, [11, 21, 13], {'name': 'manorma'}, (51, 16))\n"
     ]
    }
   ],
   "source": [
    "my_tuple = (25, \"ABC\", 13.14, True, [11, 21, 13], {\"name\": \"manorma\"}, (51, 16))\n",
    "print(\"The tuple is:\", my_tuple)"
   ]
  },
  {
   "cell_type": "markdown",
   "id": "a01d5765-59d9-47d2-95a8-e31dbfba72ac",
   "metadata": {},
   "source": [
    "# Write a Python program to create a tuple of numbers and print one item."
   ]
  },
  {
   "cell_type": "code",
   "execution_count": 75,
   "id": "70cb51f9-c64c-44e8-9d9a-e4c2ef62a691",
   "metadata": {},
   "outputs": [
    {
     "name": "stdout",
     "output_type": "stream",
     "text": [
      "Enter which elem you want to print 1\n"
     ]
    },
    {
     "name": "stdout",
     "output_type": "stream",
     "text": [
      "Second elem of tuple is:  20\n"
     ]
    }
   ],
   "source": [
    "n=int(input(\"Enter which elem you want to print\"))\n",
    "numbers=(10,20,30,40,50,60,70,80)\n",
    "print(\"Second elem of tuple is: \",numbers[n])"
   ]
  },
  {
   "cell_type": "markdown",
   "id": "c5ecdb4c-c00a-479a-a58c-3bd32bec0ed8",
   "metadata": {},
   "source": [
    "# Write a Python program to add an item to a tuple"
   ]
  },
  {
   "cell_type": "code",
   "execution_count": 76,
   "id": "e1f2e276-fd63-4060-b31b-c28bad1549ad",
   "metadata": {},
   "outputs": [
    {
     "name": "stdout",
     "output_type": "stream",
     "text": [
      "Enter item you want to add 50\n"
     ]
    },
    {
     "name": "stdout",
     "output_type": "stream",
     "text": [
      "Updated tuple: (1111, 22, 3233, 50)\n"
     ]
    }
   ],
   "source": [
    "original_tuple = (1111, 22, 3233)\n",
    "new_item = int(input(\"Enter item you want to add\"))\n",
    "Answer = original_tuple + (new_item,)\n",
    "print(\"Updated tuple:\", Answer)"
   ]
  },
  {
   "cell_type": "markdown",
   "id": "7d8cb231-b7fc-49aa-8463-854e286122a1",
   "metadata": {},
   "source": [
    "# Write a Python program to get the 4th element from the last element of a Tuple."
   ]
  },
  {
   "cell_type": "code",
   "execution_count": 77,
   "id": "71df3ff1-cbce-44d9-a3bc-0d1156de3a25",
   "metadata": {},
   "outputs": [
    {
     "name": "stdout",
     "output_type": "stream",
     "text": [
      "440\n"
     ]
    }
   ],
   "source": [
    "tuple = (20, 210, 50, 440, 58, 6754, 70)\n",
    "elementt = tuple[-4]\n",
    "print(elementt)"
   ]
  },
  {
   "cell_type": "markdown",
   "id": "19812aff-9980-4caa-a2d6-f18cb57c8320",
   "metadata": {},
   "source": [
    "# Write a Python program to convert a tuple to a dictionary."
   ]
  },
  {
   "cell_type": "code",
   "execution_count": 78,
   "id": "5f80e8f5-8963-49db-a446-47968c9d73b9",
   "metadata": {},
   "outputs": [
    {
     "name": "stdout",
     "output_type": "stream",
     "text": [
      "{'abc': 879, 'def': 892, 'ghi': 893}\n"
     ]
    }
   ],
   "source": [
    "tuple1 = ((\"abc\", 879), (\"def\", 892), (\"ghi\",893))\n",
    "my_dict = dict(tuple1)\n",
    "print(my_dict)"
   ]
  },
  {
   "cell_type": "markdown",
   "id": "524251be-3d78-427b-a446-dbea6f24c74e",
   "metadata": {},
   "source": [
    "# Write a Python program to replace the last value of tuples in a list."
   ]
  },
  {
   "cell_type": "code",
   "execution_count": 80,
   "id": "390d0118-b760-4458-9b3e-f092566aaffb",
   "metadata": {},
   "outputs": [
    {
     "name": "stdout",
     "output_type": "stream",
     "text": [
      "[(10, 20, 100), (40, 50, 100), (70, 80, 100)]\n"
     ]
    }
   ],
   "source": [
    "list= [(10, 20, 40), (40, 50, 60), (70, 80, 90)]\n",
    "new_list = [item[:-1] + (100,) for item in list]\n",
    "print(new_list)"
   ]
  },
  {
   "cell_type": "markdown",
   "id": "9fb32952-955b-4170-b1b0-153753e80512",
   "metadata": {},
   "source": [
    "# Task 3"
   ]
  },
  {
   "cell_type": "markdown",
   "id": "270ab956-244a-464c-a8ab-0cddd8594478",
   "metadata": {},
   "source": [
    "# Write a Python script to sort (ascending and descending) a dictionary by value."
   ]
  },
  {
   "cell_type": "code",
   "execution_count": 81,
   "id": "da102a67-f479-4d8e-90c1-ec18cf17438a",
   "metadata": {},
   "outputs": [
    {
     "name": "stdout",
     "output_type": "stream",
     "text": [
      "Ascending : {'banana': 2, 'date': 5, 'cherry': 7, 'apple': 10}\n",
      "Descending : {'apple': 10, 'cherry': 7, 'date': 5, 'banana': 2}\n"
     ]
    }
   ],
   "source": [
    "dict1 = {'apple': 10, 'banana': 2, 'cherry': 7, 'date': 5}\n",
    "ascending_sorted_dict = dict(sorted(dict1.items(), key=lambda x: x[1]))\n",
    "descending_sorted_dict = dict(sorted(dict1.items(), key=lambda x: x[1], reverse=True))\n",
    "print(\"Ascending :\", ascending_sorted_dict)\n",
    "print(\"Descending :\", descending_sorted_dict)"
   ]
  },
  {
   "cell_type": "markdown",
   "id": "f7a1bf7b-5cdb-48de-b30d-800a6c4f7c23",
   "metadata": {},
   "source": [
    "# Write a Python program to iterate over dictionaries using for loops."
   ]
  },
  {
   "cell_type": "code",
   "execution_count": 84,
   "id": "ed29fb1f-850e-401e-9edc-0c159fc32086",
   "metadata": {},
   "outputs": [
    {
     "name": "stdout",
     "output_type": "stream",
     "text": [
      "carrot:3\n",
      "broccoli:5\n",
      "spinach:2\n",
      "peas:4\n"
     ]
    }
   ],
   "source": [
    "my_dict = {'carrot': 3, 'broccoli': 5, 'spinach': 2, 'peas': 4}\n",
    "for key, value in my_dict.items():\n",
    "    print(f\"{key}:{value}\")"
   ]
  },
  {
   "cell_type": "markdown",
   "id": "03cd0ee7-21d0-47ef-8d2d-605be9c5a5de",
   "metadata": {},
   "source": [
    "#  Write a Python script to merge two Python dictionaries."
   ]
  },
  {
   "cell_type": "code",
   "execution_count": 93,
   "id": "f9faa25a-81f7-4c08-a53d-839aeb2fba37",
   "metadata": {},
   "outputs": [
    {
     "name": "stdout",
     "output_type": "stream",
     "text": [
      "{'a': 1, 'b': 2, 'c': 3, 'd': 4}\n"
     ]
    }
   ],
   "source": [
    "dict1 = {'a': 1, 'b': 2}\n",
    "dict2 = {'c': 3, 'd': 4}\n",
    "dict1.update(dict2) \n",
    "print(dict1)"
   ]
  },
  {
   "cell_type": "markdown",
   "id": "d8ea20a4-9dcd-406c-9a9b-349ed6a01976",
   "metadata": {},
   "source": [
    "# Write a Python program to sum all the items in a dictionary."
   ]
  },
  {
   "cell_type": "code",
   "execution_count": 87,
   "id": "ea150707-2b74-426a-8fc3-b08673ab94ae",
   "metadata": {},
   "outputs": [
    {
     "name": "stdout",
     "output_type": "stream",
     "text": [
      "1425\n"
     ]
    }
   ],
   "source": [
    "my_dict = {'a': 107, 'b': 920, 'c': 398}\n",
    "total = sum(my_dict.values())\n",
    "print(total)"
   ]
  },
  {
   "cell_type": "markdown",
   "id": "49a8ee69-ca63-4f56-8d36-8ba7195b3ed1",
   "metadata": {},
   "source": [
    "# Write a Python program to multiply all the items in a dictionary."
   ]
  },
  {
   "cell_type": "code",
   "execution_count": 90,
   "id": "12dedf53-1df0-4658-b097-98d70b5534ab",
   "metadata": {},
   "outputs": [
    {
     "name": "stdout",
     "output_type": "stream",
     "text": [
      "24\n"
     ]
    }
   ],
   "source": [
    "dict4 = {'d': 2, 'g': 3, 'j': 4}\n",
    "result = 1\n",
    "for value in dict4.values():\n",
    "    result *= value\n",
    "print(result)"
   ]
  },
  {
   "cell_type": "markdown",
   "id": "3a4467b0-b996-4b82-95e3-ca49f68c9a02",
   "metadata": {},
   "source": [
    "#  Write a Python program to sort a given dictionary by key."
   ]
  },
  {
   "cell_type": "code",
   "execution_count": 99,
   "id": "d1801f4e-4fe6-4739-9820-01d230021a2d",
   "metadata": {},
   "outputs": [
    {
     "name": "stdout",
     "output_type": "stream",
     "text": [
      "{'apple': 2, 'banana': 10, 'cherry': 5, 'grapes': 11}\n"
     ]
    }
   ],
   "source": [
    "dict5 = {'banana': 10, 'apple': 2, 'grapes':11 , 'cherry': 5}\n",
    "sorted_dict = dict(sorted(dict5.items()))\n",
    "print(sorted_dict)"
   ]
  },
  {
   "cell_type": "markdown",
   "id": "17869b50-5bcd-44f4-a434-7631b9c2173e",
   "metadata": {},
   "source": [
    "# Write a Python program to remove duplicates from the dictionary."
   ]
  },
  {
   "cell_type": "code",
   "execution_count": 105,
   "id": "b5d842cc-2623-410a-8db6-0a54c97ad5c5",
   "metadata": {},
   "outputs": [
    {
     "name": "stdout",
     "output_type": "stream",
     "text": [
      "{'sparrow': 1, 'eagle': 2, 'owl': 3}\n"
     ]
    }
   ],
   "source": [
    "dict_with_duplicates = {'sparrow': 1, 'eagle': 2, 'hawk': 2, 'owl': 3}\n",
    "values = {}\n",
    "for key, value in dict_with_duplicates.items():\n",
    "    if value not in values.values():\n",
    "        values[key] = value\n",
    "print(values)"
   ]
  },
  {
   "cell_type": "markdown",
   "id": "a72c2038-2df4-47ff-b781-ce940ad45f5a",
   "metadata": {},
   "source": [
    "# Task4"
   ]
  },
  {
   "cell_type": "markdown",
   "id": "4bb7416c-ea62-4b28-a0b3-264ef49c1f56",
   "metadata": {},
   "source": [
    "# 1: Numpy array creation and manipulation"
   ]
  },
  {
   "cell_type": "code",
   "execution_count": 93,
   "id": "7c953b58-a8e4-464b-97ba-0c84a9cdc773",
   "metadata": {},
   "outputs": [],
   "source": [
    "import numpy as np"
   ]
  },
  {
   "cell_type": "markdown",
   "id": "1787da9b-16e1-4876-96c9-289ea3f3be54",
   "metadata": {},
   "source": [
    "# Create a 1D Numpy array “a” containing 10 random integers between 0 and 99."
   ]
  },
  {
   "cell_type": "code",
   "execution_count": 94,
   "id": "30bff541-c2d5-4515-abe4-37b46a94221a",
   "metadata": {},
   "outputs": [
    {
     "name": "stdout",
     "output_type": "stream",
     "text": [
      "[ 3 10 14  9 23 13 15 21 33 25]\n"
     ]
    }
   ],
   "source": [
    "import numpy as np\n",
    "a = np.random.randint(0,100,10)\n",
    "print(a)"
   ]
  },
  {
   "cell_type": "markdown",
   "id": "cfaa1203-e8d4-4703-a1c5-aa87e0f6dc53",
   "metadata": {},
   "source": [
    "# Create a 2D Numpy array “b” of shape (3, 4) containing random integers between -10 and 10."
   ]
  },
  {
   "cell_type": "code",
   "execution_count": 95,
   "id": "3fbe0bc5-affa-4a22-9440-11fc3145e735",
   "metadata": {},
   "outputs": [
    {
     "name": "stdout",
     "output_type": "stream",
     "text": [
      "[[ 1  9  5 -8]\n",
      " [-2  1  5 -7]\n",
      " [ 3 -2  2  9]]\n"
     ]
    }
   ],
   "source": [
    "import numpy as np\n",
    "b = np.random.randint(-10,11,(3,4))\n",
    "print(b)"
   ]
  },
  {
   "cell_type": "markdown",
   "id": "58824122-5108-4bd1-86a9-16e141d10bda",
   "metadata": {},
   "source": [
    "# Reshape “b” into a 1D Numpy array “b_flat”."
   ]
  },
  {
   "cell_type": "code",
   "execution_count": 96,
   "id": "92e6963b-cc18-4cc6-87d3-00b46934d3dd",
   "metadata": {},
   "outputs": [
    {
     "name": "stdout",
     "output_type": "stream",
     "text": [
      "[ 1  9  5 -8 -2  1  5 -7  3 -2  2  9]\n"
     ]
    }
   ],
   "source": [
    "b_flat=b.reshape(-1)\n",
    "print(b_flat)"
   ]
  },
  {
   "cell_type": "markdown",
   "id": "6033e503-12b6-4e39-9e7e-6ffe8e384962",
   "metadata": {},
   "source": [
    "# Create a copy of “a” called “a_copy”, and set the first element of “a_copy” to -1."
   ]
  },
  {
   "cell_type": "code",
   "execution_count": 97,
   "id": "f0e6a16e-fe31-48aa-aac9-175129c4cc3f",
   "metadata": {},
   "outputs": [
    {
     "name": "stdout",
     "output_type": "stream",
     "text": [
      "[-1 10 14  9 23 13 15 21 33 25]\n"
     ]
    }
   ],
   "source": [
    "a_copy=a.copy()\n",
    "a_copy[0]=-1\n",
    "print(a_copy)"
   ]
  },
  {
   "cell_type": "markdown",
   "id": "e57d01e7-37d3-41bd-ab4d-f64706dbb392",
   "metadata": {},
   "source": [
    "# Create a 1D Numpy array “c” containing every second element of “a”."
   ]
  },
  {
   "cell_type": "code",
   "execution_count": 98,
   "id": "1594bcc2-9769-47b3-9970-a29c88df1428",
   "metadata": {},
   "outputs": [
    {
     "name": "stdout",
     "output_type": "stream",
     "text": [
      "[ 3 14 23 15 33]\n"
     ]
    }
   ],
   "source": [
    "c=a[::2]\n",
    "print(c)"
   ]
  },
  {
   "cell_type": "markdown",
   "id": "3ae44523-4e90-4085-8497-8748feccd792",
   "metadata": {},
   "source": [
    "# 2: Numpy array indexing and slicing"
   ]
  },
  {
   "cell_type": "markdown",
   "id": "3c914bf2-6fa7-4ed2-b9da-769145e9951f",
   "metadata": {},
   "source": [
    "# Print the third element of “a”."
   ]
  },
  {
   "cell_type": "code",
   "execution_count": 99,
   "id": "f97d68b8-8b65-44cc-939c-c82a0e80e34a",
   "metadata": {},
   "outputs": [
    {
     "name": "stdout",
     "output_type": "stream",
     "text": [
      "14\n"
     ]
    }
   ],
   "source": [
    "print(a[2])"
   ]
  },
  {
   "cell_type": "markdown",
   "id": "c52c985b-f130-4a18-8bbe-18992205c904",
   "metadata": {},
   "source": [
    "# Print the last element of “b”"
   ]
  },
  {
   "cell_type": "code",
   "execution_count": 100,
   "id": "db4756e4-d7c1-47c0-ad58-b86b899992f9",
   "metadata": {},
   "outputs": [
    {
     "name": "stdout",
     "output_type": "stream",
     "text": [
      "9\n"
     ]
    }
   ],
   "source": [
    "print(b[-1,-1])"
   ]
  },
  {
   "cell_type": "markdown",
   "id": "298d1fd6-359b-4369-bade-9093ef3cd949",
   "metadata": {},
   "source": [
    "# Print the first two rows and last two columns of “b”."
   ]
  },
  {
   "cell_type": "code",
   "execution_count": 101,
   "id": "785967e7-5add-485d-99ef-7aa5a3fc8c2d",
   "metadata": {},
   "outputs": [
    {
     "name": "stdout",
     "output_type": "stream",
     "text": [
      "[[ 5 -8]\n",
      " [ 5 -7]]\n"
     ]
    }
   ],
   "source": [
    "print(b[0:2,-2:])"
   ]
  },
  {
   "cell_type": "markdown",
   "id": "27d2bb1e-6514-4b31-a096-2f5a754ec471",
   "metadata": {},
   "source": [
    "# Assign the second row of “b” to a variable called “b_row”."
   ]
  },
  {
   "cell_type": "code",
   "execution_count": 102,
   "id": "07c2b08f-06e2-4520-b0b6-ccc46ee53ea9",
   "metadata": {},
   "outputs": [
    {
     "name": "stdout",
     "output_type": "stream",
     "text": [
      "[-2  1  5 -7]\n"
     ]
    }
   ],
   "source": [
    "b_row=b[1,:]\n",
    "print(b_row)"
   ]
  },
  {
   "cell_type": "markdown",
   "id": "d2aeee97-1e08-45f8-ad2e-6183a0250967",
   "metadata": {},
   "source": [
    "# Assign the first column of “b” to a variable called “b_col”."
   ]
  },
  {
   "cell_type": "code",
   "execution_count": 103,
   "id": "9c4afb77-8f28-47e6-ae07-53c7a2f95e05",
   "metadata": {},
   "outputs": [
    {
     "name": "stdout",
     "output_type": "stream",
     "text": [
      "[ 1 -2  3]\n"
     ]
    }
   ],
   "source": [
    "b_col=b[:,0]\n",
    "print(b_col)"
   ]
  },
  {
   "cell_type": "markdown",
   "id": "de8349b5-5616-45f6-80d4-ca80782e85ec",
   "metadata": {},
   "source": [
    "#  3: Numpy array operations"
   ]
  },
  {
   "cell_type": "markdown",
   "id": "f44adb6f-6456-45bf-bc72-4f238194086c",
   "metadata": {},
   "source": [
    "# Create a 1D Numpy array “d” containing the integers from 1 to 10."
   ]
  },
  {
   "cell_type": "code",
   "execution_count": 104,
   "id": "f601dc80-4d38-4e23-9c16-9afe11305383",
   "metadata": {},
   "outputs": [
    {
     "name": "stdout",
     "output_type": "stream",
     "text": [
      "[ 1  2  3  4  5  6  7  8  9 10]\n"
     ]
    }
   ],
   "source": [
    "d=np.arange(1,11)\n",
    "print(d)"
   ]
  },
  {
   "cell_type": "markdown",
   "id": "eaa18127-0abf-45fb-a556-de05e2680162",
   "metadata": {},
   "source": [
    "# Add “a” and “d” element-wise to create a new Numpy array “e”."
   ]
  },
  {
   "cell_type": "code",
   "execution_count": 105,
   "id": "9dc44e57-fad1-435f-a6a0-682b2fdf58d2",
   "metadata": {},
   "outputs": [
    {
     "name": "stdout",
     "output_type": "stream",
     "text": [
      "[ 4 12 17 13 28 19 22 29 42 35]\n"
     ]
    }
   ],
   "source": [
    "e=np.add(a,d)\n",
    "print(e)"
   ]
  },
  {
   "cell_type": "markdown",
   "id": "5a26ed9a-15dc-48cf-91d5-45376ae3bf30",
   "metadata": {},
   "source": [
    "# Multiply “b” by 2 to create a new Numpy array “b_double”."
   ]
  },
  {
   "cell_type": "code",
   "execution_count": 108,
   "id": "f381a285-596e-4af9-a259-aafdc61970f0",
   "metadata": {},
   "outputs": [
    {
     "name": "stdout",
     "output_type": "stream",
     "text": [
      "[[  2  18  10 -16]\n",
      " [ -4   2  10 -14]\n",
      " [  6  -4   4  18]]\n"
     ]
    }
   ],
   "source": [
    "b_double=np.multiply(b,2)\n",
    "print(b_double)\n"
   ]
  },
  {
   "cell_type": "markdown",
   "id": "a6ec5dec-0a8e-4191-aeec-2d808af5626b",
   "metadata": {},
   "source": [
    "# Calculate the dot product of “b” and “b_double” to create a new Numpy array “f”."
   ]
  },
  {
   "cell_type": "code",
   "execution_count": 109,
   "id": "a5af1380-3dbb-4f8a-9a77-07f018b1391e",
   "metadata": {},
   "outputs": [
    {
     "name": "stdout",
     "output_type": "stream",
     "text": [
      "[[ 342  176 -154]\n",
      " [ 176  158 -122]\n",
      " [-154 -122  196]]\n"
     ]
    }
   ],
   "source": [
    "f=np.dot(b,b_double.T)\n",
    "print(f)"
   ]
  },
  {
   "cell_type": "markdown",
   "id": "60fe2dd0-6bf7-42b7-a338-271f2fc3dd08",
   "metadata": {},
   "source": [
    "# Calculate the mean of “a”,” b”, and “b_double” to create a new Numpy array “g”."
   ]
  },
  {
   "cell_type": "code",
   "execution_count": 110,
   "id": "a3034102-3bf9-4d9e-9231-69e9cb09ec0f",
   "metadata": {},
   "outputs": [
    {
     "name": "stdout",
     "output_type": "stream",
     "text": [
      "[16.6         1.33333333  2.66666667]\n"
     ]
    }
   ],
   "source": [
    "g=np.array([np.mean(a),np.mean(b),np.mean(b_double)])\n",
    "print(g)\n"
   ]
  },
  {
   "cell_type": "markdown",
   "id": "6b7f8129-d0c9-4088-8542-541a9ffbf8a8",
   "metadata": {},
   "source": [
    "# 4: Numpy array aggregation"
   ]
  },
  {
   "cell_type": "markdown",
   "id": "772154a0-5dba-4975-816a-fde7e8e38564",
   "metadata": {},
   "source": [
    "# Find the sum of every element in “a” and assign it to a variable “a_sum”."
   ]
  },
  {
   "cell_type": "code",
   "execution_count": 111,
   "id": "84848cad-bb2b-4886-a072-2eabdf0fb917",
   "metadata": {},
   "outputs": [
    {
     "name": "stdout",
     "output_type": "stream",
     "text": [
      "166\n",
      "[ 3 10 14  9 23 13 15 21 33 25]\n"
     ]
    }
   ],
   "source": [
    "a_sum=np.sum(a)\n",
    "print(a_sum)\n",
    "print(a)"
   ]
  },
  {
   "cell_type": "markdown",
   "id": "3b40c0ed-0f26-481f-9381-76c95924c104",
   "metadata": {},
   "source": [
    "# Find the minimum element in “b” and assign it to a variable “b_min”."
   ]
  },
  {
   "cell_type": "code",
   "execution_count": 112,
   "id": "ff9fcb8d-6a9b-48e1-9fb4-67f1d74853c8",
   "metadata": {},
   "outputs": [
    {
     "name": "stdout",
     "output_type": "stream",
     "text": [
      "-8\n"
     ]
    }
   ],
   "source": [
    "b_min=np.min(b)\n",
    "print(b_min)\n"
   ]
  },
  {
   "cell_type": "markdown",
   "id": "ed724fcc-7155-40e9-a9f0-c7d04c30861b",
   "metadata": {},
   "source": [
    "# Find the maximum element in “b_double” and assign it to a variable “b_double_max”."
   ]
  },
  {
   "cell_type": "code",
   "execution_count": 113,
   "id": "ac7237a6-2c45-4618-8582-689ecc802666",
   "metadata": {},
   "outputs": [
    {
     "name": "stdout",
     "output_type": "stream",
     "text": [
      "18\n"
     ]
    }
   ],
   "source": [
    "b_double_max=np.max(b_double)\n",
    "print(b_double_max)"
   ]
  },
  {
   "cell_type": "markdown",
   "id": "03b8b576-2c46-4871-bce5-a71e498ceb60",
   "metadata": {},
   "source": [
    "# Task 5 : Pandas"
   ]
  },
  {
   "cell_type": "markdown",
   "id": "7a5eeb95-88d3-4ee0-8138-7f8c2dbacb51",
   "metadata": {},
   "source": [
    "# Load the dataset into a Pandas DataFrame and display the first 5 rows to get an idea of the data"
   ]
  },
  {
   "cell_type": "code",
   "execution_count": 83,
   "id": "02ac6df9-06e6-4afd-8d2a-c6b1517b723a",
   "metadata": {},
   "outputs": [
    {
     "data": {
      "text/html": [
       "<div>\n",
       "<style scoped>\n",
       "    .dataframe tbody tr th:only-of-type {\n",
       "        vertical-align: middle;\n",
       "    }\n",
       "\n",
       "    .dataframe tbody tr th {\n",
       "        vertical-align: top;\n",
       "    }\n",
       "\n",
       "    .dataframe thead th {\n",
       "        text-align: right;\n",
       "    }\n",
       "</style>\n",
       "<table border=\"1\" class=\"dataframe\">\n",
       "  <thead>\n",
       "    <tr style=\"text-align: right;\">\n",
       "      <th></th>\n",
       "      <th>Car Make</th>\n",
       "      <th>Car Model</th>\n",
       "      <th>Year</th>\n",
       "      <th>Engine Size (L)</th>\n",
       "      <th>Horsepower</th>\n",
       "      <th>Torque (lb-ft)</th>\n",
       "      <th>0-60 MPH Time (seconds)</th>\n",
       "      <th>Price (in USD)</th>\n",
       "    </tr>\n",
       "  </thead>\n",
       "  <tbody>\n",
       "    <tr>\n",
       "      <th>0</th>\n",
       "      <td>Porsche</td>\n",
       "      <td>911</td>\n",
       "      <td>2022</td>\n",
       "      <td>3</td>\n",
       "      <td>379</td>\n",
       "      <td>331</td>\n",
       "      <td>4</td>\n",
       "      <td>101,200</td>\n",
       "    </tr>\n",
       "    <tr>\n",
       "      <th>1</th>\n",
       "      <td>Lamborghini</td>\n",
       "      <td>Huracan</td>\n",
       "      <td>2021</td>\n",
       "      <td>5.2</td>\n",
       "      <td>630</td>\n",
       "      <td>443</td>\n",
       "      <td>2.8</td>\n",
       "      <td>274,390</td>\n",
       "    </tr>\n",
       "    <tr>\n",
       "      <th>2</th>\n",
       "      <td>Ferrari</td>\n",
       "      <td>488 GTB</td>\n",
       "      <td>2022</td>\n",
       "      <td>3.9</td>\n",
       "      <td>661</td>\n",
       "      <td>561</td>\n",
       "      <td>3</td>\n",
       "      <td>333,750</td>\n",
       "    </tr>\n",
       "    <tr>\n",
       "      <th>3</th>\n",
       "      <td>Audi</td>\n",
       "      <td>R8</td>\n",
       "      <td>2022</td>\n",
       "      <td>5.2</td>\n",
       "      <td>562</td>\n",
       "      <td>406</td>\n",
       "      <td>3.2</td>\n",
       "      <td>142,700</td>\n",
       "    </tr>\n",
       "    <tr>\n",
       "      <th>4</th>\n",
       "      <td>McLaren</td>\n",
       "      <td>720S</td>\n",
       "      <td>2021</td>\n",
       "      <td>4</td>\n",
       "      <td>710</td>\n",
       "      <td>568</td>\n",
       "      <td>2.7</td>\n",
       "      <td>298,000</td>\n",
       "    </tr>\n",
       "  </tbody>\n",
       "</table>\n",
       "</div>"
      ],
      "text/plain": [
       "      Car Make Car Model  Year Engine Size (L) Horsepower Torque (lb-ft)  \\\n",
       "0      Porsche       911  2022               3        379            331   \n",
       "1  Lamborghini   Huracan  2021             5.2        630            443   \n",
       "2      Ferrari   488 GTB  2022             3.9        661            561   \n",
       "3         Audi        R8  2022             5.2        562            406   \n",
       "4      McLaren      720S  2021               4        710            568   \n",
       "\n",
       "  0-60 MPH Time (seconds) Price (in USD)  \n",
       "0                       4        101,200  \n",
       "1                     2.8        274,390  \n",
       "2                       3        333,750  \n",
       "3                     3.2        142,700  \n",
       "4                     2.7        298,000  "
      ]
     },
     "execution_count": 83,
     "metadata": {},
     "output_type": "execute_result"
    }
   ],
   "source": [
    "import pandas as pd\n",
    "data=pd.read_csv(\"E:/Sport car price.csv\")\n",
    "data.head()"
   ]
  },
  {
   "cell_type": "markdown",
   "id": "94146186-f65e-4ff0-b7c8-579cbe491739",
   "metadata": {},
   "source": [
    "# Use Pandas to clean the dataset by removing any missing or duplicate values, and converting any non-numeric data to numeric data where appropriate."
   ]
  },
  {
   "cell_type": "code",
   "execution_count": 84,
   "id": "30ecfc76-185e-4d9d-b5ba-7184bd8acd82",
   "metadata": {},
   "outputs": [
    {
     "name": "stdout",
     "output_type": "stream",
     "text": [
      "Car Make                    object\n",
      "Car Model                   object\n",
      "Year                         int64\n",
      "Engine Size (L)            float64\n",
      "Horsepower                 float64\n",
      "Torque (lb-ft)             float64\n",
      "0-60 MPH Time (seconds)    float64\n",
      "Price (in USD)               int64\n",
      "dtype: object\n"
     ]
    }
   ],
   "source": [
    "import pandas as pd\n",
    "import numpy as np\n",
    "\n",
    "# Convert columns to numeric values\n",
    "def clean_convert(column):\n",
    "    return pd.to_numeric(column.replace('[/$,]', '', regex=True), errors='coerce')\n",
    "\n",
    "# Convert specific columns\n",
    "data['Engine Size (L)'] = clean_convert(data['Engine Size (L)'])\n",
    "data['Horsepower'] = clean_convert(data['Horsepower'])\n",
    "data['Torque (lb-ft)'] = clean_convert(data['Torque (lb-ft)'])\n",
    "data['0-60 MPH Time (seconds)'] = clean_convert(data['0-60 MPH Time (seconds)'])\n",
    "data['Price (in USD)'] = clean_convert(data['Price (in USD)'])\n",
    "\n",
    "# Check the data types again\n",
    "print(data.dtypes)\n",
    "\n",
    "# Remove duplicate rows and missing values\n",
    "data = data.drop_duplicates()\n",
    "data = data.dropna().reset_index(drop=True)"
   ]
  },
  {
   "cell_type": "markdown",
   "id": "4165cbbb-ca63-4323-bd04-695f9a4a3277",
   "metadata": {},
   "source": [
    "# Use Pandas to explore the dataset by computing summary statistics for each column, such as mean, median, mode, standard deviation, and range."
   ]
  },
  {
   "cell_type": "code",
   "execution_count": 85,
   "id": "1035412a-2a29-4751-84bb-cc4d339d2abf",
   "metadata": {},
   "outputs": [
    {
     "name": "stdout",
     "output_type": "stream",
     "text": [
      "Summary Statistics:\n",
      "               Year  Engine Size (L)    Horsepower  Torque (lb-ft)  \\\n",
      "count   707.000000       665.000000    703.000000      705.000000   \n",
      "mean   2021.151344         4.428421    629.843528      551.019858   \n",
      "std       2.347564         1.444627    464.337280      356.078922   \n",
      "min    1965.000000         0.000000    181.000000      151.000000   \n",
      "25%    2021.000000         3.500000    449.000000      398.000000   \n",
      "50%    2021.000000         4.000000    583.000000      505.000000   \n",
      "75%    2022.000000         6.000000    690.000000      626.000000   \n",
      "max    2023.000000         8.400000  10000.000000     7376.000000   \n",
      "\n",
      "       0-60 MPH Time (seconds)  Price (in USD)  \n",
      "count               706.000000    7.070000e+02  \n",
      "mean                  3.577578    3.808800e+05  \n",
      "std                   0.788971    7.652793e+05  \n",
      "min                   1.800000    2.500000e+04  \n",
      "25%                   3.000000    7.000000e+04  \n",
      "50%                   3.500000    1.324000e+05  \n",
      "75%                   4.000000    2.250000e+05  \n",
      "max                   6.500000    5.200000e+06  \n",
      "\n",
      "Mode:\n",
      " Year                          2021.0\n",
      "Engine Size (L)                  4.0\n",
      "Horsepower                     503.0\n",
      "Torque (lb-ft)                 443.0\n",
      "0-60 MPH Time (seconds)          3.5\n",
      "Price (in USD)             3000000.0\n",
      "Name: 0, dtype: float64\n",
      "\n",
      "Range:\n",
      " Year                            58.0\n",
      "Engine Size (L)                  8.4\n",
      "Horsepower                    9819.0\n",
      "Torque (lb-ft)                7225.0\n",
      "0-60 MPH Time (seconds)          4.7\n",
      "Price (in USD)             5175000.0\n",
      "dtype: float64\n"
     ]
    }
   ],
   "source": [
    "# Compute summary statistics for numeric columns only\n",
    "numcols = data.select_dtypes(include='number')\n",
    "summary = numcols.describe()\n",
    "\n",
    "# Compute additional statistics like mode and range\n",
    "mode = numcols.mode().iloc[0]\n",
    "range = numcols.max() - numcols.min()\n",
    "\n",
    "print(\"Summary Statistics:\\n\", summary)\n",
    "print(\"\\nMode:\\n\",mode)\n",
    "print(\"\\nRange:\\n\",range)"
   ]
  },
  {
   "cell_type": "markdown",
   "id": "0238e132-14af-4c4b-b568-8b6cd5c8a1c5",
   "metadata": {},
   "source": [
    "# Use Pandas to group the dataset by car make and compute the average price for each make."
   ]
  },
  {
   "cell_type": "code",
   "execution_count": 75,
   "id": "81cadcda-cc3a-4a2b-a545-d5701bfe0cef",
   "metadata": {},
   "outputs": [
    {
     "data": {
      "text/plain": [
       "Car Make\n",
       "Acura            1.581650e+05\n",
       "Alfa Romeo       7.459967e+04\n",
       "Alpine           7.150000e+04\n",
       "Ariel            7.500000e+04\n",
       "Aston Martin     2.224352e+05\n",
       "Audi             9.135337e+04\n",
       "BMW              8.064097e+04\n",
       "Bentley          2.161760e+05\n",
       "Bugatti          3.386333e+06\n",
       "Chevrolet        5.465270e+04\n",
       "Dodge            7.166649e+04\n",
       "Ferrari          3.000600e+05\n",
       "Ford             2.328552e+05\n",
       "Jaguar           7.643810e+04\n",
       "Kia              5.220000e+04\n",
       "Koenigsegg       2.900000e+06\n",
       "Lamborghini      4.732617e+05\n",
       "Lexus            9.383333e+04\n",
       "Lotus            6.072589e+05\n",
       "Maserati         1.464203e+05\n",
       "Mazda            2.683000e+04\n",
       "McLaren          3.216477e+05\n",
       "Mercedes-AMG     1.538000e+05\n",
       "Mercedes-Benz    1.615324e+05\n",
       "Nissan           4.681161e+04\n",
       "Pagani           2.809091e+06\n",
       "Pininfarina      2.500000e+06\n",
       "Polestar         1.550000e+05\n",
       "Porsche          1.350485e+05\n",
       "Rimac            2.400000e+06\n",
       "Rolls-Royce      3.335944e+05\n",
       "Shelby           1.000000e+06\n",
       "Subaru           3.817000e+04\n",
       "TVR              1.405000e+05\n",
       "Tesla            1.632607e+05\n",
       "Toyota           4.306000e+04\n",
       "Ultima           2.200000e+05\n",
       "W Motors         2.216667e+06\n",
       "Name: Price (in USD), dtype: float64"
      ]
     },
     "execution_count": 75,
     "metadata": {},
     "output_type": "execute_result"
    }
   ],
   "source": [
    "avgpricecarmake=data.groupby(\"Car Make\")[\"Price (in USD)\"].mean()\n",
    "avgpricecarmake"
   ]
  },
  {
   "cell_type": "markdown",
   "id": "f7e7cbeb-1d02-4fc8-80a3-fb4e3d25de3c",
   "metadata": {},
   "source": [
    "# Use Pandas to group the dataset by year and compute the average horsepower for each year.¶"
   ]
  },
  {
   "cell_type": "code",
   "execution_count": 76,
   "id": "b27ffff0-0321-4a4c-99a5-fab87a24aa7e",
   "metadata": {},
   "outputs": [
    {
     "data": {
      "text/plain": [
       "Year\n",
       "1965    435.000000\n",
       "2014    622.000000\n",
       "2015    660.400000\n",
       "2017    645.000000\n",
       "2019    615.333333\n",
       "2020    462.083333\n",
       "2021    628.527778\n",
       "2022    647.627376\n",
       "2023    512.500000\n",
       "Name: Horsepower, dtype: float64"
      ]
     },
     "execution_count": 76,
     "metadata": {},
     "output_type": "execute_result"
    }
   ],
   "source": [
    "avghorsepowerperyear=data.groupby(\"Year\")[\"Horsepower\"].mean()\n",
    "avghorsepowerperyear"
   ]
  },
  {
   "cell_type": "markdown",
   "id": "3b4f93d7-2eec-4ab4-a21d-11332fd3539f",
   "metadata": {},
   "source": [
    "# Use Pandas to create a scatter plot of price versus horsepower, and add a linear regression line to the plot."
   ]
  },
  {
   "cell_type": "code",
   "execution_count": 92,
   "id": "50129718-1717-4e6c-9360-a3804ebdc567",
   "metadata": {},
   "outputs": [
    {
     "data": {
      "image/png": "[encoded data removed]",
      "text/plain": [
       "<Figure size 640x480 with 1 Axes>"
      ]
     },
     "metadata": {},
     "output_type": "display_data"
    }
   ],
   "source": [
    "import numpy as np\n",
    "import matplotlib.pyplot as plt\n",
    "from sklearn.linear_model import LinearRegression\n",
    "ax=data.plot(kind=\"scatter\",x=\"Price (in USD)\",y=\"Horsepower\")\n",
    "ax.set_title(\"Price versus horsepower\")\n",
    "# Prepare data for linear regression\n",
    "X = data[['Horsepower']]\n",
    "y = data['Price (in USD)']\n",
    "\n",
    "# Fit the linear regression model\n",
    "model = LinearRegression()\n",
    "model.fit(X, y)\n",
    "\n",
    "# Predict values for plotting the regression line using DataFrame\n",
    "X_range = pd.DataFrame({'Horsepower': np.linspace(X['Horsepower'].min(), X['Horsepower'].max(), 100)})\n",
    "y_pred = model.predict(X_range)\n",
    "\n",
    "# Plot the regression line\n",
    "plt.plot(X_range, y_pred, color='red', label='Regression Line')\n",
    "\n",
    "# Add titles and labels\n",
    "ax.set_title('Scatter Plot of Price vs. Horsepower with Regression Line')\n",
    "ax.set_xlabel('Horsepower')\n",
    "ax.set_ylabel('Price (in USD)')\n",
    "plt.legend()\n",
    "\n",
    "# Show the plot\n",
    "plt.show()"
   ]
  },
  {
   "cell_type": "markdown",
   "id": "d1158713-5579-4925-9c82-cc5008b9b68b",
   "metadata": {},
   "source": [
    "# Use Pandas to create a histogram of the 0-60 MPH times in the dataset, with bins of size 0.5 seconds."
   ]
  },
  {
   "cell_type": "code",
   "execution_count": 81,
   "id": "9a890be7-0da6-489c-913c-ed5d8af46704",
   "metadata": {},
   "outputs": [
    {
     "data": {
      "image/png": "[encoded data removed]",
      "text/plain": [
       "<Figure size 1000x600 with 1 Axes>"
      ]
     },
     "metadata": {},
     "output_type": "display_data"
    }
   ],
   "source": [
    "data['0-60 MPH Time (seconds)'] = clean_convert(data['0-60 MPH Time (seconds)'])\n",
    "\n",
    "# Drop rows with NaN values in the '0-60 MPH Time (seconds)' column\n",
    "data = data.dropna(subset=['0-60 MPH Time (seconds)'])\n",
    "\n",
    "# Create the histogram with bins of size 0.5 seconds\n",
    "plt.figure(figsize=(10, 6))\n",
    "plt.hist(data['0-60 MPH Time (seconds)'], bins=np.arange(data['0-60 MPH Time (seconds)'].min(), data['0-60 MPH Time (seconds)'].max() + 0.5, 0.5), edgecolor='black')\n",
    "\n",
    "# Add titles and labels\n",
    "plt.title('Histogram of 0-60 MPH Times')\n",
    "plt.xlabel('0-60 MPH Time (seconds)')\n",
    "plt.ylabel('Frequency')\n",
    "\n",
    "# Show the plot\n",
    "plt.show()"
   ]
  },
  {
   "cell_type": "markdown",
   "id": "ac7d7870-917e-4c92-a9b1-d59f3daab993",
   "metadata": {},
   "source": [
    "# Use Pandas to filter the dataset to only include cars with a price greater than $500,000, and then sort the resulting dataset by horsepower in descending order."
   ]
  },
  {
   "cell_type": "code",
   "execution_count": 65,
   "id": "6139eb4e-4553-4696-af4b-9ee6cf4a3bc7",
   "metadata": {},
   "outputs": [
    {
     "data": {
      "text/html": [
       "<div>\n",
       "<style scoped>\n",
       "    .dataframe tbody tr th:only-of-type {\n",
       "        vertical-align: middle;\n",
       "    }\n",
       "\n",
       "    .dataframe tbody tr th {\n",
       "        vertical-align: top;\n",
       "    }\n",
       "\n",
       "    .dataframe thead th {\n",
       "        text-align: right;\n",
       "    }\n",
       "</style>\n",
       "<table border=\"1\" class=\"dataframe\">\n",
       "  <thead>\n",
       "    <tr style=\"text-align: right;\">\n",
       "      <th></th>\n",
       "      <th>Car Make</th>\n",
       "      <th>Car Model</th>\n",
       "      <th>Year</th>\n",
       "      <th>Engine Size (L)</th>\n",
       "      <th>Horsepower</th>\n",
       "      <th>Torque (lb-ft)</th>\n",
       "      <th>0-60 MPH Time (seconds)</th>\n",
       "      <th>Price (in USD)</th>\n",
       "    </tr>\n",
       "  </thead>\n",
       "  <tbody>\n",
       "    <tr>\n",
       "      <th>0</th>\n",
       "      <td>Koenigsegg</td>\n",
       "      <td>Jesko Absolut</td>\n",
       "      <td>2022</td>\n",
       "      <td>5.0</td>\n",
       "      <td>1600.0</td>\n",
       "      <td>1106.0</td>\n",
       "      <td>2.1</td>\n",
       "      <td>2800000</td>\n",
       "    </tr>\n",
       "    <tr>\n",
       "      <th>1</th>\n",
       "      <td>Koenigsegg</td>\n",
       "      <td>Jesko</td>\n",
       "      <td>2022</td>\n",
       "      <td>5.0</td>\n",
       "      <td>1600.0</td>\n",
       "      <td>1106.0</td>\n",
       "      <td>2.5</td>\n",
       "      <td>3000000</td>\n",
       "    </tr>\n",
       "    <tr>\n",
       "      <th>2</th>\n",
       "      <td>Bugatti</td>\n",
       "      <td>Chiron Super Sport 300+</td>\n",
       "      <td>2021</td>\n",
       "      <td>8.0</td>\n",
       "      <td>1578.0</td>\n",
       "      <td>1180.0</td>\n",
       "      <td>2.4</td>\n",
       "      <td>5200000</td>\n",
       "    </tr>\n",
       "    <tr>\n",
       "      <th>3</th>\n",
       "      <td>Bugatti</td>\n",
       "      <td>Chiron Super Sport 300+</td>\n",
       "      <td>2022</td>\n",
       "      <td>8.0</td>\n",
       "      <td>1578.0</td>\n",
       "      <td>1180.0</td>\n",
       "      <td>2.3</td>\n",
       "      <td>5200000</td>\n",
       "    </tr>\n",
       "    <tr>\n",
       "      <th>4</th>\n",
       "      <td>Bugatti</td>\n",
       "      <td>Chiron</td>\n",
       "      <td>2021</td>\n",
       "      <td>8.0</td>\n",
       "      <td>1500.0</td>\n",
       "      <td>1180.0</td>\n",
       "      <td>2.5</td>\n",
       "      <td>3000000</td>\n",
       "    </tr>\n",
       "    <tr>\n",
       "      <th>...</th>\n",
       "      <td>...</td>\n",
       "      <td>...</td>\n",
       "      <td>...</td>\n",
       "      <td>...</td>\n",
       "      <td>...</td>\n",
       "      <td>...</td>\n",
       "      <td>...</td>\n",
       "      <td>...</td>\n",
       "    </tr>\n",
       "    <tr>\n",
       "      <th>57</th>\n",
       "      <td>Lamborghini</td>\n",
       "      <td>Aventador</td>\n",
       "      <td>2021</td>\n",
       "      <td>6.5</td>\n",
       "      <td>730.0</td>\n",
       "      <td>507.0</td>\n",
       "      <td>2.8</td>\n",
       "      <td>517770</td>\n",
       "    </tr>\n",
       "    <tr>\n",
       "      <th>58</th>\n",
       "      <td>Lamborghini</td>\n",
       "      <td>Aventador</td>\n",
       "      <td>2021</td>\n",
       "      <td>6.5</td>\n",
       "      <td>730.0</td>\n",
       "      <td>509.0</td>\n",
       "      <td>2.9</td>\n",
       "      <td>517000</td>\n",
       "    </tr>\n",
       "    <tr>\n",
       "      <th>59</th>\n",
       "      <td>Pagani</td>\n",
       "      <td>Huayra</td>\n",
       "      <td>2020</td>\n",
       "      <td>6.0</td>\n",
       "      <td>720.0</td>\n",
       "      <td>738.0</td>\n",
       "      <td>3.0</td>\n",
       "      <td>2700000</td>\n",
       "    </tr>\n",
       "    <tr>\n",
       "      <th>60</th>\n",
       "      <td>Pagani</td>\n",
       "      <td>Huayra</td>\n",
       "      <td>2021</td>\n",
       "      <td>6.0</td>\n",
       "      <td>720.0</td>\n",
       "      <td>737.0</td>\n",
       "      <td>2.8</td>\n",
       "      <td>2800000</td>\n",
       "    </tr>\n",
       "    <tr>\n",
       "      <th>61</th>\n",
       "      <td>Shelby</td>\n",
       "      <td>Cobra</td>\n",
       "      <td>1965</td>\n",
       "      <td>7.0</td>\n",
       "      <td>435.0</td>\n",
       "      <td>440.0</td>\n",
       "      <td>4.2</td>\n",
       "      <td>1000000</td>\n",
       "    </tr>\n",
       "  </tbody>\n",
       "</table>\n",
       "<p>62 rows × 8 columns</p>\n",
       "</div>"
      ],
      "text/plain": [
       "       Car Make                Car Model  Year  Engine Size (L)  Horsepower  \\\n",
       "0    Koenigsegg            Jesko Absolut  2022              5.0      1600.0   \n",
       "1    Koenigsegg                    Jesko  2022              5.0      1600.0   \n",
       "2       Bugatti  Chiron Super Sport 300+  2021              8.0      1578.0   \n",
       "3       Bugatti  Chiron Super Sport 300+  2022              8.0      1578.0   \n",
       "4       Bugatti                   Chiron  2021              8.0      1500.0   \n",
       "..          ...                      ...   ...              ...         ...   \n",
       "57  Lamborghini                Aventador  2021              6.5       730.0   \n",
       "58  Lamborghini                Aventador  2021              6.5       730.0   \n",
       "59       Pagani                   Huayra  2020              6.0       720.0   \n",
       "60       Pagani                   Huayra  2021              6.0       720.0   \n",
       "61       Shelby                    Cobra  1965              7.0       435.0   \n",
       "\n",
       "    Torque (lb-ft)  0-60 MPH Time (seconds)  Price (in USD)  \n",
       "0           1106.0                      2.1         2800000  \n",
       "1           1106.0                      2.5         3000000  \n",
       "2           1180.0                      2.4         5200000  \n",
       "3           1180.0                      2.3         5200000  \n",
       "4           1180.0                      2.5         3000000  \n",
       "..             ...                      ...             ...  \n",
       "57           507.0                      2.8          517770  \n",
       "58           509.0                      2.9          517000  \n",
       "59           738.0                      3.0         2700000  \n",
       "60           737.0                      2.8         2800000  \n",
       "61           440.0                      4.2         1000000  \n",
       "\n",
       "[62 rows x 8 columns]"
      ]
     },
     "execution_count": 65,
     "metadata": {},
     "output_type": "execute_result"
    }
   ],
   "source": [
    "# Filter the dataset to include only cars with a price greater than $500,000\n",
    "filtered_data = data[data['Price (in USD)'] > 500000]\n",
    "# Sort the resulting dataset by horsepower in descending order\n",
    "sorted_data = filtered_data.sort_values(by='Horsepower', ascending=False,ignore_index=True)\n",
    "\n",
    "# Display the resulting DataFrame\n",
    "sorted_data"
   ]
  },
  {
   "cell_type": "markdown",
   "id": "faeaa0da-69e0-45cc-8963-e454fd8b4808",
   "metadata": {},
   "source": [
    "# Use Pandas to export the cleaned and transformed dataset to a new CSV file."
   ]
  },
  {
   "cell_type": "code",
   "execution_count": 59,
   "id": "3f554f1b-1dcb-4c00-8b0c-4cecb070b9fa",
   "metadata": {},
   "outputs": [
    {
     "name": "stdout",
     "output_type": "stream",
     "text": [
      "Cleaned and transformed dataset has been saved to E:/cleaned_transformed_dataset.csv\n"
     ]
    }
   ],
   "source": [
    "output_file_path = 'E:/cleaned_transformed_dataset.csv'\n",
    "sorted_data.to_csv(output_file_path, index=False)\n",
    "\n",
    "print(f\"Cleaned and transformed dataset has been saved to {output_file_path}\")"
   ]
  },
  {
   "cell_type": "code",
   "execution_count": null,
   "id": "0ecd8f4a-9f3c-4780-8a94-eafb9406ba49",
   "metadata": {},
   "outputs": [],
   "source": []
  }
 ],
 "metadata": {
  "kernelspec": {
   "display_name": "Python 3 (ipykernel)",
   "language": "python",
   "name": "python3"
  },
  "language_info": {
   "codemirror_mode": {
    "name": "ipython",
    "version": 3
   },
   "file_extension": ".py",
   "mimetype": "text/x-python",
   "name": "python",
   "nbconvert_exporter": "python",
   "pygments_lexer": "ipython3",
   "version": "3.11.5"
  }
 },
 "nbformat": 4,
 "nbformat_minor": 5
}
